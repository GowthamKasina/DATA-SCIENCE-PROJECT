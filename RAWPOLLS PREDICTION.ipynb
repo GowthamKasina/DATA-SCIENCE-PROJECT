{
 "cells": [
  {
   "cell_type": "markdown",
   "metadata": {},
   "source": [
    "# ......................................... RAWPOLLS PREDICTION ........................................."
   ]
  },
  {
   "cell_type": "markdown",
   "metadata": {},
   "source": [
    "<div class=\"alert alert-block alert-info\">\n",
    "<b>Importing libraries</b> </div>\n"
   ]
  },
  {
   "cell_type": "code",
   "execution_count": 6,
   "metadata": {},
   "outputs": [],
   "source": [
    "import pandas as pd\n",
    "import seaborn as sns\n",
    "import numpy as np\n",
    "import matplotlib.pyplot as plt\n",
    "import warnings\n",
    "warnings.filterwarnings('ignore')"
   ]
  },
  {
   "cell_type": "markdown",
   "metadata": {},
   "source": [
    "<div class=\"alert alert-block alert-info\">\n",
    "<b>Loading the dataset</b> </div>\n"
   ]
  },
  {
   "cell_type": "code",
   "execution_count": 7,
   "metadata": {},
   "outputs": [
    {
     "data": {
      "text/plain": [
       "Index(['pollno', 'race', 'year', 'location', 'type_simple', 'type_detail',\n",
       "       'pollster', 'partisan', 'polldate', 'samplesize', 'cand1_name',\n",
       "       'cand1_pct', 'cand2_name', 'cand2_pct', 'cand3_pct', 'margin_poll',\n",
       "       'electiondate', 'cand1_actual', 'cand2_actual', 'margin_actual',\n",
       "       'error', 'bias', 'rightcall', 'comment', 'Number'],\n",
       "      dtype='object')"
      ]
     },
     "execution_count": 7,
     "metadata": {},
     "output_type": "execute_result"
    }
   ],
   "source": [
    "df = pd.read_excel('RAW POLLS.xlsx')\n",
    "df.columns"
   ]
  },
  {
   "cell_type": "code",
   "execution_count": 8,
   "metadata": {},
   "outputs": [
    {
     "data": {
      "text/html": [
       "<div>\n",
       "<style scoped>\n",
       "    .dataframe tbody tr th:only-of-type {\n",
       "        vertical-align: middle;\n",
       "    }\n",
       "\n",
       "    .dataframe tbody tr th {\n",
       "        vertical-align: top;\n",
       "    }\n",
       "\n",
       "    .dataframe thead th {\n",
       "        text-align: right;\n",
       "    }\n",
       "</style>\n",
       "<table border=\"1\" class=\"dataframe\">\n",
       "  <thead>\n",
       "    <tr style=\"text-align: right;\">\n",
       "      <th></th>\n",
       "      <th>pollno</th>\n",
       "      <th>race</th>\n",
       "      <th>year</th>\n",
       "      <th>location</th>\n",
       "      <th>type_simple</th>\n",
       "      <th>type_detail</th>\n",
       "      <th>pollster</th>\n",
       "      <th>partisan</th>\n",
       "      <th>polldate</th>\n",
       "      <th>samplesize</th>\n",
       "      <th>...</th>\n",
       "      <th>margin_poll</th>\n",
       "      <th>electiondate</th>\n",
       "      <th>cand1_actual</th>\n",
       "      <th>cand2_actual</th>\n",
       "      <th>margin_actual</th>\n",
       "      <th>error</th>\n",
       "      <th>bias</th>\n",
       "      <th>rightcall</th>\n",
       "      <th>comment</th>\n",
       "      <th>Number</th>\n",
       "    </tr>\n",
       "  </thead>\n",
       "  <tbody>\n",
       "    <tr>\n",
       "      <th>0</th>\n",
       "      <td>5380001</td>\n",
       "      <td>1998_House-G_ID-1</td>\n",
       "      <td>1998</td>\n",
       "      <td>ID-1</td>\n",
       "      <td>House-G</td>\n",
       "      <td>House-G</td>\n",
       "      <td>Garin-Hart-Yang Research Group</td>\n",
       "      <td>D</td>\n",
       "      <td>10/13/98</td>\n",
       "      <td>372.0</td>\n",
       "      <td>...</td>\n",
       "      <td>2.0</td>\n",
       "      <td>1998-03-11 00:00:00</td>\n",
       "      <td>44.73</td>\n",
       "      <td>55.27</td>\n",
       "      <td>-10.54</td>\n",
       "      <td>12.54</td>\n",
       "      <td>12.54</td>\n",
       "      <td>0.0</td>\n",
       "      <td>None</td>\n",
       "      <td>1</td>\n",
       "    </tr>\n",
       "    <tr>\n",
       "      <th>1</th>\n",
       "      <td>5380002</td>\n",
       "      <td>1998_House-G_ID-2</td>\n",
       "      <td>1998</td>\n",
       "      <td>ID-2</td>\n",
       "      <td>House-G</td>\n",
       "      <td>House-G</td>\n",
       "      <td>Garin-Hart-Yang Research Group</td>\n",
       "      <td>D</td>\n",
       "      <td>10/13/98</td>\n",
       "      <td>400.0</td>\n",
       "      <td>...</td>\n",
       "      <td>6.0</td>\n",
       "      <td>1998-03-11 00:00:00</td>\n",
       "      <td>44.69</td>\n",
       "      <td>52.51</td>\n",
       "      <td>-7.82</td>\n",
       "      <td>13.82</td>\n",
       "      <td>13.82</td>\n",
       "      <td>0.0</td>\n",
       "      <td>None</td>\n",
       "      <td>1</td>\n",
       "    </tr>\n",
       "    <tr>\n",
       "      <th>2</th>\n",
       "      <td>5380003</td>\n",
       "      <td>1998_House-G_US</td>\n",
       "      <td>1998</td>\n",
       "      <td>US</td>\n",
       "      <td>House-G</td>\n",
       "      <td>House-G</td>\n",
       "      <td>Zogby Interactive/JZ Analytics</td>\n",
       "      <td>None</td>\n",
       "      <td>10/13/98</td>\n",
       "      <td>864.0</td>\n",
       "      <td>...</td>\n",
       "      <td>3.0</td>\n",
       "      <td>1998-03-11 00:00:00</td>\n",
       "      <td>46.42</td>\n",
       "      <td>47.99</td>\n",
       "      <td>-1.57</td>\n",
       "      <td>4.57</td>\n",
       "      <td>4.57</td>\n",
       "      <td>0.0</td>\n",
       "      <td>previously listed as Zogby Analytics, telephone</td>\n",
       "      <td>1</td>\n",
       "    </tr>\n",
       "    <tr>\n",
       "      <th>3</th>\n",
       "      <td>5380004</td>\n",
       "      <td>1998_Sen-G_NV</td>\n",
       "      <td>1998</td>\n",
       "      <td>NV</td>\n",
       "      <td>Sen-G</td>\n",
       "      <td>Sen-G</td>\n",
       "      <td>Fairbank, Maslin, Maullin, Metz &amp; Associates</td>\n",
       "      <td>D</td>\n",
       "      <td>10/13/98</td>\n",
       "      <td>1418.0</td>\n",
       "      <td>...</td>\n",
       "      <td>5.0</td>\n",
       "      <td>1998-03-11 00:00:00</td>\n",
       "      <td>47.88</td>\n",
       "      <td>47.78</td>\n",
       "      <td>0.10</td>\n",
       "      <td>4.90</td>\n",
       "      <td>4.9</td>\n",
       "      <td>1.0</td>\n",
       "      <td>None</td>\n",
       "      <td>1</td>\n",
       "    </tr>\n",
       "    <tr>\n",
       "      <th>4</th>\n",
       "      <td>5380005</td>\n",
       "      <td>1998_Sen-G_NY</td>\n",
       "      <td>1998</td>\n",
       "      <td>NY</td>\n",
       "      <td>Sen-G</td>\n",
       "      <td>Sen-G</td>\n",
       "      <td>Blum &amp; Weprin Associates</td>\n",
       "      <td>None</td>\n",
       "      <td>10/13/98</td>\n",
       "      <td>364.0</td>\n",
       "      <td>...</td>\n",
       "      <td>-8.0</td>\n",
       "      <td>1998-03-11 00:00:00</td>\n",
       "      <td>54.62</td>\n",
       "      <td>44.08</td>\n",
       "      <td>10.54</td>\n",
       "      <td>18.54</td>\n",
       "      <td>-18.54</td>\n",
       "      <td>0.0</td>\n",
       "      <td>None</td>\n",
       "      <td>1</td>\n",
       "    </tr>\n",
       "  </tbody>\n",
       "</table>\n",
       "<p>5 rows × 25 columns</p>\n",
       "</div>"
      ],
      "text/plain": [
       "    pollno               race  year location type_simple type_detail  \\\n",
       "0  5380001  1998_House-G_ID-1  1998     ID-1     House-G     House-G   \n",
       "1  5380002  1998_House-G_ID-2  1998     ID-2     House-G     House-G   \n",
       "2  5380003    1998_House-G_US  1998       US     House-G     House-G   \n",
       "3  5380004      1998_Sen-G_NV  1998       NV       Sen-G       Sen-G   \n",
       "4  5380005      1998_Sen-G_NY  1998       NY       Sen-G       Sen-G   \n",
       "\n",
       "                                       pollster partisan  polldate  \\\n",
       "0                Garin-Hart-Yang Research Group        D  10/13/98   \n",
       "1                Garin-Hart-Yang Research Group        D  10/13/98   \n",
       "2                Zogby Interactive/JZ Analytics     None  10/13/98   \n",
       "3  Fairbank, Maslin, Maullin, Metz & Associates        D  10/13/98   \n",
       "4                      Blum & Weprin Associates     None  10/13/98   \n",
       "\n",
       "   samplesize  ... margin_poll         electiondate cand1_actual  \\\n",
       "0       372.0  ...         2.0  1998-03-11 00:00:00        44.73   \n",
       "1       400.0  ...         6.0  1998-03-11 00:00:00        44.69   \n",
       "2       864.0  ...         3.0  1998-03-11 00:00:00        46.42   \n",
       "3      1418.0  ...         5.0  1998-03-11 00:00:00        47.88   \n",
       "4       364.0  ...        -8.0  1998-03-11 00:00:00        54.62   \n",
       "\n",
       "   cand2_actual margin_actual  error   bias  rightcall  \\\n",
       "0         55.27        -10.54  12.54  12.54        0.0   \n",
       "1         52.51         -7.82  13.82  13.82        0.0   \n",
       "2         47.99         -1.57   4.57   4.57        0.0   \n",
       "3         47.78          0.10   4.90    4.9        1.0   \n",
       "4         44.08         10.54  18.54 -18.54        0.0   \n",
       "\n",
       "                                           comment  Number  \n",
       "0                                             None       1  \n",
       "1                                             None       1  \n",
       "2  previously listed as Zogby Analytics, telephone       1  \n",
       "3                                             None       1  \n",
       "4                                             None       1  \n",
       "\n",
       "[5 rows x 25 columns]"
      ]
     },
     "execution_count": 8,
     "metadata": {},
     "output_type": "execute_result"
    }
   ],
   "source": [
    "df.head(5)"
   ]
  },
  {
   "cell_type": "markdown",
   "metadata": {},
   "source": [
    "<div class=\"alert alert-block alert-info\">\n",
    "<b>To display shape of dataset</b> </div>\n"
   ]
  },
  {
   "cell_type": "code",
   "execution_count": 9,
   "metadata": {},
   "outputs": [
    {
     "data": {
      "text/plain": [
       "(23103, 25)"
      ]
     },
     "execution_count": 9,
     "metadata": {},
     "output_type": "execute_result"
    }
   ],
   "source": [
    "df.shape"
   ]
  },
  {
   "cell_type": "markdown",
   "metadata": {},
   "source": [
    "<div class=\"alert alert-block alert-info\">\n",
    "<b>To display columns,datatype, Null values </b> </div>\n"
   ]
  },
  {
   "cell_type": "code",
   "execution_count": 10,
   "metadata": {},
   "outputs": [
    {
     "name": "stdout",
     "output_type": "stream",
     "text": [
      "<class 'pandas.core.frame.DataFrame'>\n",
      "RangeIndex: 23103 entries, 0 to 23102\n",
      "Data columns (total 25 columns):\n",
      " #   Column         Non-Null Count  Dtype  \n",
      "---  ------         --------------  -----  \n",
      " 0   pollno         23103 non-null  int64  \n",
      " 1   race           23103 non-null  object \n",
      " 2   year           23103 non-null  int64  \n",
      " 3   location       23103 non-null  object \n",
      " 4   type_simple    23103 non-null  object \n",
      " 5   type_detail    23103 non-null  object \n",
      " 6   pollster       23103 non-null  object \n",
      " 7   partisan       23103 non-null  object \n",
      " 8   polldate       23103 non-null  object \n",
      " 9   samplesize     23103 non-null  float64\n",
      " 10  cand1_name     23103 non-null  object \n",
      " 11  cand1_pct      23103 non-null  float64\n",
      " 12  cand2_name     23103 non-null  object \n",
      " 13  cand2_pct      23103 non-null  float64\n",
      " 14  cand3_pct      23103 non-null  object \n",
      " 15  margin_poll    23103 non-null  float64\n",
      " 16  electiondate   23103 non-null  object \n",
      " 17  cand1_actual   23103 non-null  float64\n",
      " 18  cand2_actual   23103 non-null  float64\n",
      " 19  margin_actual  23103 non-null  float64\n",
      " 20  error          23103 non-null  float64\n",
      " 21  bias           23103 non-null  object \n",
      " 22  rightcall      23103 non-null  float64\n",
      " 23  comment        23103 non-null  object \n",
      " 24  Number         23103 non-null  int64  \n",
      "dtypes: float64(9), int64(3), object(13)\n",
      "memory usage: 4.4+ MB\n"
     ]
    }
   ],
   "source": [
    "df.info()"
   ]
  },
  {
   "cell_type": "markdown",
   "metadata": {},
   "source": [
    "<div class=\"alert alert-block alert-danger\">\n",
    "<b>Preprocessing  :-</b> </div>"
   ]
  },
  {
   "cell_type": "markdown",
   "metadata": {},
   "source": [
    "<div class=\"alert alert-block alert-info\">\n",
    "<b>Splitting polldate into separate columns</b> </div>"
   ]
  },
  {
   "cell_type": "code",
   "execution_count": 11,
   "metadata": {},
   "outputs": [],
   "source": [
    "df['polldate']=pd.to_datetime(df['polldate'])\n",
    "df['Month_poll']=df['polldate'].dt.month\n",
    "df['Date_poll']=df['polldate'].dt.day\n",
    "df['Year_poll']=df['polldate'].dt.year"
   ]
  },
  {
   "cell_type": "markdown",
   "metadata": {},
   "source": [
    "<div class=\"alert alert-block alert-info\">\n",
    "<b>Splitting electiondate into separate columns</b> </div>"
   ]
  },
  {
   "cell_type": "code",
   "execution_count": 12,
   "metadata": {},
   "outputs": [],
   "source": [
    "df['electiondate']=pd.to_datetime(df['electiondate'])\n",
    "df['Month_ele']=df['electiondate'].dt.month\n",
    "df['Date_ele']=df['electiondate'].dt.day\n",
    "df['Year_ele']=df['electiondate'].dt.year\n"
   ]
  },
  {
   "cell_type": "markdown",
   "metadata": {},
   "source": [
    "<div class=\"alert alert-block alert-info\">\n",
    "<b>Dropping this extra columns</b> </div>"
   ]
  },
  {
   "cell_type": "code",
   "execution_count": 13,
   "metadata": {},
   "outputs": [],
   "source": [
    "df.drop(['polldate','electiondate','pollno'],axis=1,inplace=True)"
   ]
  },
  {
   "cell_type": "code",
   "execution_count": 14,
   "metadata": {},
   "outputs": [],
   "source": [
    "df.replace('None',np.nan,inplace = True)"
   ]
  },
  {
   "cell_type": "markdown",
   "metadata": {},
   "source": [
    "<div class=\"alert alert-block alert-info\">\n",
    "<b>Checking Null Values</b> </div>"
   ]
  },
  {
   "cell_type": "code",
   "execution_count": 15,
   "metadata": {},
   "outputs": [
    {
     "data": {
      "text/plain": [
       "race                 0\n",
       "year                 0\n",
       "location             0\n",
       "type_simple          0\n",
       "type_detail          0\n",
       "pollster             0\n",
       "partisan         22223\n",
       "samplesize           0\n",
       "cand1_name           0\n",
       "cand1_pct            0\n",
       "cand2_name           0\n",
       "cand2_pct            0\n",
       "cand3_pct        16814\n",
       "margin_poll          0\n",
       "cand1_actual         0\n",
       "cand2_actual         0\n",
       "margin_actual        0\n",
       "error                0\n",
       "bias              4748\n",
       "rightcall            0\n",
       "comment          20396\n",
       "Number               0\n",
       "Month_poll           0\n",
       "Date_poll            0\n",
       "Year_poll            0\n",
       "Month_ele            0\n",
       "Date_ele             0\n",
       "Year_ele             0\n",
       "dtype: int64"
      ]
     },
     "execution_count": 15,
     "metadata": {},
     "output_type": "execute_result"
    }
   ],
   "source": [
    "df.isnull().sum()"
   ]
  },
  {
   "cell_type": "markdown",
   "metadata": {},
   "source": [
    "<div class=\"alert alert-block alert-info\">\n",
    "<b>\n",
    "\n",
    "Handling Null Values In Numeric data variable :-\n",
    "    \n",
    "cand3_pct has 16814 null values, empty cells replacing with the 0\n",
    "\n",
    "bias has 4748 null values, empty cells replacing with the 0\n",
    "\n",
    "rightcall has 16814 null values. empty cells replacing with the 0\n",
    "\n",
    "</b>\n",
    "\n",
    "\n",
    "\n",
    "</div>"
   ]
  },
  {
   "cell_type": "code",
   "execution_count": 16,
   "metadata": {},
   "outputs": [],
   "source": [
    "df['cand3_pct']=df['cand3_pct'].fillna(value='0')\n",
    "df['bias']=df['bias'].fillna(value='0')"
   ]
  },
  {
   "cell_type": "markdown",
   "metadata": {},
   "source": [
    "<div class=\"alert alert-block alert-info\">\n",
    "<b>Checking Unique values  :- </b> </div>"
   ]
  },
  {
   "cell_type": "code",
   "execution_count": 17,
   "metadata": {},
   "outputs": [
    {
     "data": {
      "text/plain": [
       "array(['0', 7.0, 5.0, 15.0, 12.0, 10.0, 8.0, 6.0, 3.0, 11.0, 16.0, 2.0,\n",
       "       13.0, 14.0, 17.0, 4.0, 31.0, 1.0, 9.0, 3.1, 1.9, 22.0, 23.0, 19.0,\n",
       "       21.0, 18.0, 2.7, 29.0, 30.0, 28.0, 24.0, 20.0, 27.0, 25.0, 26.0,\n",
       "       0.2, 0.3, 0.4, 1.1, 0.1, 0.7, 0.5, 0.0, 0.9, 34.0, 33.0, 32.0,\n",
       "       25.5, 31.03, 36.0, 26.2, 37.0, 38.0, 35.0, 2.6, 3.8, 3.9, 6.03,\n",
       "       3.3, 4.1, 2.4, 14.1, 13.4, 2.9, 18.6, 19.4, 14.6, 15.5, 13.94,\n",
       "       15.54, 15.82, 17.52, 18.7, 14.76, 15.25, 21.21, 20.74, 19.5, 16.3,\n",
       "       15.1, 16.56, 18.14, 23.04, 18.41, 18.2, 17.1, 20.8, 29.4, 21.4,\n",
       "       13.3, 14.3, 19.2, 4.5, 2.8, 4.8, 6.6, 3.4, 3.5, 7.7, 6.37, 8.1,\n",
       "       5.05, 7.6, 1.89, 6.3, 2.3, 4.4, 5.6, 4.3, 2.96, 6.18, 5.9, 2.17,\n",
       "       3.59, 5.3, 5.8, 5.4, 4.9, 3.7, 27.6, 6.8, 2.2, 5.04, 3.2, 1.2,\n",
       "       2.58, 5.1, 5.46, 24.52, 2.43, 2.89, 7.1, 15.96, 8.6, 11.3, 15.2,\n",
       "       16.6, 1.8, 1.44], dtype=object)"
      ]
     },
     "execution_count": 17,
     "metadata": {},
     "output_type": "execute_result"
    }
   ],
   "source": [
    "df['cand3_pct'].unique()"
   ]
  },
  {
   "cell_type": "code",
   "execution_count": 18,
   "metadata": {},
   "outputs": [
    {
     "data": {
      "text/plain": [
       "array([12.54, 13.82, 4.57, ..., 0.094859918, -1.556601138, -8.156601138],\n",
       "      dtype=object)"
      ]
     },
     "execution_count": 18,
     "metadata": {},
     "output_type": "execute_result"
    }
   ],
   "source": [
    "df['bias'].unique()"
   ]
  },
  {
   "cell_type": "code",
   "execution_count": 19,
   "metadata": {},
   "outputs": [
    {
     "data": {
      "text/plain": [
       "array(['D', nan, 'R', 'I'], dtype=object)"
      ]
     },
     "execution_count": 19,
     "metadata": {},
     "output_type": "execute_result"
    }
   ],
   "source": [
    "df['partisan'].unique()"
   ]
  },
  {
   "cell_type": "markdown",
   "metadata": {},
   "source": [
    "\n",
    "<div class=\"alert alert-block alert-info\">\n",
    "<b>\n",
    "\n",
    "Handling Null Values In categorical data variable :-\n",
    "\n",
    "partisan has 22223 null values. Data is like  'D','R' & 'I'. empty cells replacing with the Neutral\n",
    "\n",
    "\n",
    "</b>\n",
    "\n",
    "</div>\n",
    "\n",
    "\n",
    "\n",
    "\n",
    "\n"
   ]
  },
  {
   "cell_type": "code",
   "execution_count": 20,
   "metadata": {},
   "outputs": [],
   "source": [
    "df['partisan'] = df['partisan'].fillna(value='Neutral')"
   ]
  },
  {
   "cell_type": "code",
   "execution_count": 21,
   "metadata": {},
   "outputs": [
    {
     "data": {
      "text/plain": [
       "array(['D', 'Neutral', 'R', 'I'], dtype=object)"
      ]
     },
     "execution_count": 21,
     "metadata": {},
     "output_type": "execute_result"
    }
   ],
   "source": [
    "df['partisan'].unique()"
   ]
  },
  {
   "cell_type": "code",
   "execution_count": 22,
   "metadata": {},
   "outputs": [],
   "source": [
    "df['rightcall']=df['rightcall'].fillna(value='0')"
   ]
  },
  {
   "cell_type": "markdown",
   "metadata": {},
   "source": [
    "df['rightcall'].unique()"
   ]
  },
  {
   "cell_type": "code",
   "execution_count": 23,
   "metadata": {},
   "outputs": [],
   "source": [
    "df['rightcall'].replace(0.5,2, inplace=True)"
   ]
  },
  {
   "cell_type": "code",
   "execution_count": 24,
   "metadata": {},
   "outputs": [],
   "source": [
    "df['rightcall'] = df['rightcall'].astype('int')"
   ]
  },
  {
   "cell_type": "code",
   "execution_count": 25,
   "metadata": {},
   "outputs": [
    {
     "data": {
      "text/plain": [
       "array([0, 1, 2])"
      ]
     },
     "execution_count": 25,
     "metadata": {},
     "output_type": "execute_result"
    }
   ],
   "source": [
    "df['rightcall'].unique()"
   ]
  },
  {
   "cell_type": "markdown",
   "metadata": {},
   "source": [
    "<div class=\"alert alert-block alert-info\">\n",
    "<b>\n",
    "\n",
    "LABEL ENCODIING  --> \n",
    "\n",
    "\n",
    "\n",
    "</b> Coverting categorical variables to numeric¶ </div>"
   ]
  },
  {
   "cell_type": "code",
   "execution_count": 26,
   "metadata": {},
   "outputs": [],
   "source": [
    "columns=['race','location','type_simple','type_detail','pollster','partisan','cand1_name','cand2_name']\n",
    "       \n",
    "from sklearn.preprocessing import LabelEncoder\n",
    "le=LabelEncoder()\n",
    "for i in columns:\n",
    "    df[i]=le.fit_transform(df[i])"
   ]
  },
  {
   "cell_type": "code",
   "execution_count": 27,
   "metadata": {},
   "outputs": [
    {
     "data": {
      "text/plain": [
       "array([0, 1, 2])"
      ]
     },
     "execution_count": 27,
     "metadata": {},
     "output_type": "execute_result"
    }
   ],
   "source": [
    "df['rightcall'].unique()"
   ]
  },
  {
   "cell_type": "markdown",
   "metadata": {},
   "source": [
    "### Seperating Data as independent and dependent columns"
   ]
  },
  {
   "cell_type": "markdown",
   "metadata": {},
   "source": [
    "<div class=\"alert alert-block alert-info\">\n",
    "<b>Seperating Data as INDEPENDENT & DEPENDENT columns</b> </div>"
   ]
  },
  {
   "cell_type": "code",
   "execution_count": 28,
   "metadata": {},
   "outputs": [
    {
     "data": {
      "text/plain": [
       "Index(['race', 'year', 'location', 'type_simple', 'type_detail', 'pollster',\n",
       "       'partisan', 'samplesize', 'cand1_name', 'cand1_pct', 'cand2_name',\n",
       "       'cand2_pct', 'cand3_pct', 'margin_poll', 'cand1_actual', 'cand2_actual',\n",
       "       'margin_actual', 'error', 'bias', 'rightcall', 'comment', 'Number',\n",
       "       'Month_poll', 'Date_poll', 'Year_poll', 'Month_ele', 'Date_ele',\n",
       "       'Year_ele'],\n",
       "      dtype='object')"
      ]
     },
     "execution_count": 28,
     "metadata": {},
     "output_type": "execute_result"
    }
   ],
   "source": [
    "df.columns"
   ]
  },
  {
   "cell_type": "code",
   "execution_count": 29,
   "metadata": {},
   "outputs": [],
   "source": [
    "x = df.loc[:, ['race', 'year', 'location', 'type_simple', 'type_detail', 'pollster',\n",
    "       'samplesize', 'cand1_name', 'cand1_pct', 'cand2_name',\n",
    "       'cand2_pct', 'margin_poll', 'cand1_actual', 'cand2_actual',\n",
    "        'error', 'Number',\n",
    "       'Month_poll', 'Date_poll', 'Year_poll', 'Month_ele', 'Date_ele',\n",
    "       'Year_ele']]\n",
    "\n",
    "Y = df['rightcall']"
   ]
  },
  {
   "cell_type": "markdown",
   "metadata": {},
   "source": [
    "<div class=\"alert alert-block alert-success\">\n",
    "<b>TARGET VARIABLE  -->  </b> Here our target variable is 'RightCall' </div>\n"
   ]
  },
  {
   "cell_type": "markdown",
   "metadata": {},
   "source": [
    "<div class=\"alert alert-block alert-info\">\n",
    "<b>Standardizing the data</b> </div>"
   ]
  },
  {
   "cell_type": "code",
   "execution_count": 30,
   "metadata": {},
   "outputs": [],
   "source": [
    "from sklearn.preprocessing import StandardScaler\n",
    "sc = StandardScaler()\n",
    "X = sc.fit_transform(x)"
   ]
  },
  {
   "cell_type": "markdown",
   "metadata": {},
   "source": [
    "<div class=\"alert alert-block alert-info\">\n",
    "<b>Splitting the data for training and testing</b> </div>"
   ]
  },
  {
   "cell_type": "code",
   "execution_count": 31,
   "metadata": {},
   "outputs": [],
   "source": [
    "# minimum 70% data has to given for training\n",
    "from sklearn.model_selection import train_test_split\n",
    "x_train, x_test, y_train, y_test = train_test_split(X,Y,test_size=0.3,random_state=10)"
   ]
  },
  {
   "cell_type": "markdown",
   "metadata": {},
   "source": [
    "<div class=\"alert alert-block alert-info\">\n",
    "<b>To check Training & Testing shape</b> </div>"
   ]
  },
  {
   "cell_type": "code",
   "execution_count": 32,
   "metadata": {},
   "outputs": [
    {
     "name": "stdout",
     "output_type": "stream",
     "text": [
      "Training shape (16172, 22)\n",
      "Testing shape (6931, 22)\n"
     ]
    }
   ],
   "source": [
    "print(\"Training shape\",x_train.shape)\n",
    "print(\"Testing shape\",x_test.shape)"
   ]
  },
  {
   "cell_type": "markdown",
   "metadata": {},
   "source": [
    "<div class=\"alert alert-block alert-danger\">\n",
    "<b>.......................................................................................... GRADIENT BOOST CLASSIFIER ........................................................................................</b> </div>\n"
   ]
  },
  {
   "cell_type": "markdown",
   "metadata": {},
   "source": [
    "<div class=\"alert alert-block alert-info\">\n",
    "<b>STEP 1. Import Modal GradientBoost: -</b> </div>\n"
   ]
  },
  {
   "cell_type": "code",
   "execution_count": 35,
   "metadata": {},
   "outputs": [],
   "source": [
    "from sklearn.ensemble import GradientBoostingClassifier\n",
    "gb_model = GradientBoostingClassifier()"
   ]
  },
  {
   "cell_type": "markdown",
   "metadata": {},
   "source": [
    "<div class=\"alert alert-block alert-info\">\n",
    "<b>STEP 2.Training model</b> </div>\n"
   ]
  },
  {
   "cell_type": "code",
   "execution_count": 36,
   "metadata": {},
   "outputs": [
    {
     "data": {
      "text/plain": [
       "GradientBoostingClassifier()"
      ]
     },
     "execution_count": 36,
     "metadata": {},
     "output_type": "execute_result"
    }
   ],
   "source": [
    "gb_model.fit(x_train,y_train)"
   ]
  },
  {
   "cell_type": "markdown",
   "metadata": {},
   "source": [
    "<div class=\"alert alert-block alert-info\">\n",
    "<b>STEP 3. import accuracy_score</b> </div>\n"
   ]
  },
  {
   "cell_type": "code",
   "execution_count": 37,
   "metadata": {},
   "outputs": [],
   "source": [
    "from sklearn.metrics import accuracy_score"
   ]
  },
  {
   "cell_type": "markdown",
   "metadata": {},
   "source": [
    "<div class=\"alert alert-block alert-info\">\n",
    "<b>STEP 4. Prediction / Testing / Evaluation</b> </div>\n"
   ]
  },
  {
   "cell_type": "code",
   "execution_count": 38,
   "metadata": {},
   "outputs": [
    {
     "name": "stdout",
     "output_type": "stream",
     "text": [
      "training accuracy: 0.9919614147909968\n",
      "testing accuracy: 0.9916317991631799\n"
     ]
    }
   ],
   "source": [
    "print(\"training accuracy:\",accuracy_score(y_train,gb_model.predict(x_train)))\n",
    "print(\"testing accuracy:\",accuracy_score(y_test,gb_model.predict(x_test)))\n"
   ]
  },
  {
   "cell_type": "markdown",
   "metadata": {},
   "source": [
    "<div class=\"alert alert-block alert-success\">\n",
    "<b>\n",
    "\n",
    "Training Accuracy:-----> 99%\n",
    "    \n",
    "Testing Accuracy:-----> 99%\n",
    "    \n",
    "So we got Modarate Best Result from GradientBoostingClassifier Machine Learning Model.\n",
    "\n",
    "</b> </div>\n"
   ]
  },
  {
   "cell_type": "markdown",
   "metadata": {},
   "source": [
    "<div class=\"alert alert-block alert-warning\">\n",
    "<b>LET US CHECK WITH CONFUSION MATRIX & CLASSIFICATION REPORT</b>\n",
    "</div>"
   ]
  },
  {
   "cell_type": "code",
   "execution_count": 39,
   "metadata": {},
   "outputs": [],
   "source": [
    "from sklearn.metrics import confusion_matrix, classification_report"
   ]
  },
  {
   "cell_type": "code",
   "execution_count": 40,
   "metadata": {},
   "outputs": [
    {
     "data": {
      "text/plain": [
       "array([[1055,   29,    1],\n",
       "       [  28, 5577,    0],\n",
       "       [   0,    0,  241]], dtype=int64)"
      ]
     },
     "execution_count": 40,
     "metadata": {},
     "output_type": "execute_result"
    }
   ],
   "source": [
    "confusion_matrix(y_test,gb_model.predict(x_test))"
   ]
  },
  {
   "cell_type": "markdown",
   "metadata": {},
   "source": [
    "<div class=\"alert alert-block alert-success\">\n",
    "<b>From this \"confusion_matrix\" TRUE POSSITIVE (Sensitivity) & TRUE NEGATIVE RATE (Specificity) are good</b> </div>\n"
   ]
  },
  {
   "cell_type": "code",
   "execution_count": 41,
   "metadata": {},
   "outputs": [
    {
     "name": "stdout",
     "output_type": "stream",
     "text": [
      "              precision    recall  f1-score   support\n",
      "\n",
      "           0       0.97      0.97      0.97      1085\n",
      "           1       0.99      1.00      0.99      5605\n",
      "           2       1.00      1.00      1.00       241\n",
      "\n",
      "    accuracy                           0.99      6931\n",
      "   macro avg       0.99      0.99      0.99      6931\n",
      "weighted avg       0.99      0.99      0.99      6931\n",
      "\n"
     ]
    }
   ],
   "source": [
    "print(classification_report(y_test,gb_model.predict(x_test)))"
   ]
  },
  {
   "cell_type": "markdown",
   "metadata": {},
   "source": [
    "<div class=\"alert alert-block alert-info\">\n",
    "<b>Checking with remaining Machine Learning Models.</b> </div>\n"
   ]
  },
  {
   "cell_type": "markdown",
   "metadata": {},
   "source": [
    "<div class=\"alert alert-block alert-success\">\n",
    "<b>\n",
    "\n",
    "LogisticRegression:-\n",
    "\n",
    "Training Accuracy:-----> 79%\n",
    "\n",
    "Testing Accuracy:-----> 80%\n",
    "    \n",
    "</b> \n",
    "\n",
    "Here we got slight underfit result from Training & Testing Accuracy of LogisticRegression Machine Learning Model.\n",
    "\n",
    "</div>\n"
   ]
  },
  {
   "cell_type": "markdown",
   "metadata": {},
   "source": [
    "<div class=\"alert alert-block alert-success\">\n",
    "<b>\n",
    "\n",
    "DecisionTreeClassifier:-\n",
    "\n",
    "Training Accuracy:-----> 100%\n",
    "\n",
    "Testing Accuracy:-----> 99%\n",
    "    \n",
    "</b> \n",
    "\n",
    "Here we got slight Overfitting result from Training & Testing Accuracy of DecisionTreeClassifier Machine Learning Model.\n",
    "\n",
    "</div>\n"
   ]
  },
  {
   "cell_type": "markdown",
   "metadata": {},
   "source": [
    "<div class=\"alert alert-block alert-success\">\n",
    "<b>\n",
    "\n",
    "RandomForestClassifier:-\n",
    "\n",
    "Training Accuracy:-----> 100%\n",
    "\n",
    "Testing Accuracy:-----> 90%\n",
    "    \n",
    "</b> \n",
    "\n",
    "Here we got slight Overfitting result from Training & Testing Accuracy of RandomForestClassifier Machine Learning Model.\n",
    "\n",
    "</div>\n"
   ]
  },
  {
   "cell_type": "markdown",
   "metadata": {},
   "source": [
    "<div class=\"alert alert-block alert-success\">\n",
    "<b>\n",
    "\n",
    "SupportVectorClassifier:-\n",
    "\n",
    "Training Accuracy:-----> 90%\n",
    "\n",
    "Testing Accuracy:-----> 90%\n",
    "    \n",
    "</b> \n",
    "\n",
    "Here we got modarate less result from Training & Testing Accuracy of SupportVectorClassifier Machine Learning Model.\n",
    "\n",
    "</div>\n"
   ]
  },
  {
   "cell_type": "markdown",
   "metadata": {},
   "source": [
    "<div class=\"alert alert-block alert-success\">\n",
    "<b>\n",
    "\n",
    "KNeighborsClassifier:-\n",
    "\n",
    "Training Accuracy:-----> 92%\n",
    "\n",
    "Testing Accuracy:-----> 89%\n",
    "    \n",
    "</b> \n",
    "\n",
    "Here we got Overfitting result from Training & Testing Accuracy of KNeighborsClassifier Machine Learning Model.\n",
    "\n",
    "</div>\n"
   ]
  },
  {
   "cell_type": "markdown",
   "metadata": {},
   "source": [
    "<div class=\"alert alert-block alert-success\">\n",
    "<b>\n",
    "\n",
    "AdaBoostClassifier:-\n",
    "\n",
    "Training Accuracy:-----> 82%\n",
    "\n",
    "Testing Accuracy:-----> 82%\n",
    "    \n",
    "</b> \n",
    "\n",
    "Here we got modarate less result from Training & Testing Accuracy of AdaBoostClassifier Machine Learning Model.\n",
    "\n",
    "</div>\n"
   ]
  },
  {
   "cell_type": "markdown",
   "metadata": {},
   "source": [
    "<div class=\"alert alert-block alert-success\">\n",
    "<b>\n",
    "\n",
    "XGBClassifier:-\n",
    "\n",
    "Training Accuracy:-----> 100%\n",
    "\n",
    "Testing Accuracy:-----> 99%\n",
    "    \n",
    "</b> \n",
    "\n",
    "Here we got slight Overfitting result from Training & Testing Accuracy of XGBClassifier Machine Learning Model.\n",
    "\n",
    "</div>\n"
   ]
  },
  {
   "cell_type": "markdown",
   "metadata": {},
   "source": [
    "<div class=\"alert alert-block alert-warning\">\n",
    "<b>PLOTTINGS FOR \"TRAINING ACURACY & TESTING ACURACY\"</b>\n",
    "</div>"
   ]
  },
  {
   "cell_type": "code",
   "execution_count": 70,
   "metadata": {},
   "outputs": [
    {
     "data": {
      "text/plain": [
       "<matplotlib.axes._subplots.AxesSubplot at 0x1fb22ffdeb0>"
      ]
     },
     "execution_count": 70,
     "metadata": {},
     "output_type": "execute_result"
    },
    {
     "data": {
      "image/png": "[encoded data removed]",
      "text/plain": [
       "<Figure size 1224x432 with 2 Axes>"
      ]
     },
     "metadata": {},
     "output_type": "display_data"
    }
   ],
   "source": [
    "sns.set(rc={'axes.facecolor':'gold', 'figure.facecolor':'w'})\n",
    "fig, axes = plt.subplots(1,2,figsize=(17,6))\n",
    "fig,axes[0].set_title('Testing Acuracy')\n",
    "fig,axes[1].set_title('Training Acuracy')\n",
    "\n",
    "X = [\"GB\",\"LR\",\"DTC\",\"RFC\",\"SVC\",\"KNC\",\"ADA\",\"XGB\"]\n",
    "Y = [99,80,99,99,90,89,82,99] \n",
    "\n",
    "B = [99,79,100,100,90,92,82,100]\n",
    "sns.barplot(x=X,y=Y,ax =axes[0],palette=\"Set1\")\n",
    "sns.barplot(x=X,y=B,ax = axes[1],palette=\"Set1\")\n"
   ]
  },
  {
   "cell_type": "code",
   "execution_count": 71,
   "metadata": {},
   "outputs": [
    {
     "data": {
      "text/plain": [
       "<matplotlib.axes._subplots.AxesSubplot at 0x1fb1e40aac0>"
      ]
     },
     "execution_count": 71,
     "metadata": {},
     "output_type": "execute_result"
    },
    {
     "data": {
      "image/png": "[encoded data removed]",
      "text/plain": [
       "<Figure size 1224x432 with 2 Axes>"
      ]
     },
     "metadata": {},
     "output_type": "display_data"
    }
   ],
   "source": [
    "sns.set(rc={'axes.facecolor':'gold', 'figure.facecolor':'w'})\n",
    "fig, axes = plt.subplots(1,2,figsize=(17,6))\n",
    "fig,axes[0].set_title('Testing Acuracy')\n",
    "fig,axes[1].set_title('Training Acuracy')\n",
    "\n",
    "X = [\"GB\",\"LR\",\"DTC\",\"RFC\",\"SVC\",\"KNC\",\"ADA\",\"XGB\"]\n",
    "Y = [99,80,99,99,90,89,82,99] \n",
    "\n",
    "B = [99,79,100,100,90,92,82,100]\n",
    "sns.lineplot(x=X,y=Y,ax =axes[0],markers=True, dashes=True,palette=\"Set1\", lw=8,markersize=10)\n",
    "sns.lineplot(x=X,y=B,ax = axes[1],markers=True, dashes=True,palette=\"Set1\", lw=8,markersize=10)\n"
   ]
  },
  {
   "cell_type": "code",
   "execution_count": null,
   "metadata": {},
   "outputs": [],
   "source": []
  }
 ],
 "metadata": {
  "kernelspec": {
   "display_name": "Python 3",
   "language": "python",
   "name": "python3"
  },
  "language_info": {
   "codemirror_mode": {
    "name": "ipython",
    "version": 3
   },
   "file_extension": ".py",
   "mimetype": "text/x-python",
   "name": "python",
   "nbconvert_exporter": "python",
   "pygments_lexer": "ipython3",
   "version": "3.8.3"
  }
 },
 "nbformat": 4,
 "nbformat_minor": 4
}
