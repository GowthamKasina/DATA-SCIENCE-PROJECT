{
 "cells": [
  {
   "cell_type": "markdown",
   "metadata": {},
   "source": [
    "# ................................. POLLSTER RATING PREDICTION ................................."
   ]
  },
  {
   "cell_type": "markdown",
   "metadata": {},
   "source": [
    "<div class=\"alert alert-block alert-info\">\n",
    "<b>Importing Dependencies</b> </div>"
   ]
  },
  {
   "cell_type": "code",
   "execution_count": 1,
   "metadata": {},
   "outputs": [],
   "source": [
    "import pandas as pd\n",
    "import numpy as np\n",
    "import seaborn as sns\n",
    "import matplotlib.pyplot as plt"
   ]
  },
  {
   "cell_type": "markdown",
   "metadata": {},
   "source": [
    "<div class=\"alert alert-block alert-info\">\n",
    "<b>Load the dataset</b> </div>"
   ]
  },
  {
   "cell_type": "code",
   "execution_count": 2,
   "metadata": {},
   "outputs": [
    {
     "data": {
      "text/plain": [
       "Index(['Pollster', '# of Polls', 'NCPP / AAPOR / Roper',\n",
       "       'Exclusively Live Caller With Cellphones', 'Methodology',\n",
       "       'Banned by 538', 'Predictive    Plus-Minus', '538 Grade',\n",
       "       'Mean-Reverted Bias', 'Races Called Correctly', 'Misses Outside MOE',\n",
       "       'Simple Average Error', 'Simple Expected Error', 'Simple Plus-Minus',\n",
       "       'Advanced Plus-Minus', 'Mean-Reverted Advanced Plus Minus',\n",
       "       'Predictive Plus-Minus', '# of Polls for Bias Analysis', 'Bias',\n",
       "       'House Effect', 'Year'],\n",
       "      dtype='object')"
      ]
     },
     "execution_count": 2,
     "metadata": {},
     "output_type": "execute_result"
    }
   ],
   "source": [
    "df = pd.read_excel('POLLSTER RATINGS.xlsx')\n",
    "df.columns"
   ]
  },
  {
   "cell_type": "markdown",
   "metadata": {},
   "source": [
    "<div class=\"alert alert-block alert-info\">\n",
    "<b>To display shape of dataset</b> </div>"
   ]
  },
  {
   "cell_type": "code",
   "execution_count": 3,
   "metadata": {},
   "outputs": [
    {
     "data": {
      "text/plain": [
       "(1105, 21)"
      ]
     },
     "execution_count": 3,
     "metadata": {},
     "output_type": "execute_result"
    }
   ],
   "source": [
    "df.shape"
   ]
  },
  {
   "cell_type": "markdown",
   "metadata": {},
   "source": [
    "<div class=\"alert alert-block alert-info\">\n",
    "<b>To display columns,datatype, Null values </b> </div>"
   ]
  },
  {
   "cell_type": "code",
   "execution_count": 4,
   "metadata": {},
   "outputs": [
    {
     "name": "stdout",
     "output_type": "stream",
     "text": [
      "<class 'pandas.core.frame.DataFrame'>\n",
      "RangeIndex: 1105 entries, 0 to 1104\n",
      "Data columns (total 21 columns):\n",
      " #   Column                                   Non-Null Count  Dtype  \n",
      "---  ------                                   --------------  -----  \n",
      " 0   Pollster                                 1105 non-null   object \n",
      " 1   # of Polls                               1105 non-null   int64  \n",
      " 2   NCPP / AAPOR / Roper                     1105 non-null   object \n",
      " 3   Exclusively Live Caller With Cellphones  1105 non-null   object \n",
      " 4   Methodology                              1105 non-null   object \n",
      " 5   Banned by 538                            1105 non-null   object \n",
      " 6   Predictive    Plus-Minus                 1105 non-null   float64\n",
      " 7   538 Grade                                1105 non-null   object \n",
      " 8   Mean-Reverted Bias                       1105 non-null   object \n",
      " 9   Races Called Correctly                   1105 non-null   object \n",
      " 10  Misses Outside MOE                       1105 non-null   object \n",
      " 11  Simple Average Error                     1105 non-null   float64\n",
      " 12  Simple Expected Error                    1105 non-null   object \n",
      " 13  Simple Plus-Minus                        1105 non-null   object \n",
      " 14  Advanced Plus-Minus                      1105 non-null   float64\n",
      " 15  Mean-Reverted Advanced Plus Minus        1105 non-null   object \n",
      " 16  Predictive Plus-Minus                    1105 non-null   object \n",
      " 17  # of Polls for Bias Analysis             1105 non-null   object \n",
      " 18  Bias                                     1105 non-null   object \n",
      " 19  House Effect                             1105 non-null   object \n",
      " 20  Year                                     1105 non-null   int64  \n",
      "dtypes: float64(3), int64(2), object(16)\n",
      "memory usage: 181.4+ KB\n"
     ]
    }
   ],
   "source": [
    "df.info()"
   ]
  },
  {
   "cell_type": "markdown",
   "metadata": {},
   "source": [
    "\n",
    "<div class=\"alert alert-block alert-success\">\n",
    "<b>No null values in this dataset</b> </div>"
   ]
  },
  {
   "cell_type": "markdown",
   "metadata": {},
   "source": [
    "<div class=\"alert alert-block alert-info\">\n",
    "<b>To display first five rows</b> </div>"
   ]
  },
  {
   "cell_type": "code",
   "execution_count": 5,
   "metadata": {},
   "outputs": [
    {
     "data": {
      "text/html": [
       "<div>\n",
       "<style scoped>\n",
       "    .dataframe tbody tr th:only-of-type {\n",
       "        vertical-align: middle;\n",
       "    }\n",
       "\n",
       "    .dataframe tbody tr th {\n",
       "        vertical-align: top;\n",
       "    }\n",
       "\n",
       "    .dataframe thead th {\n",
       "        text-align: right;\n",
       "    }\n",
       "</style>\n",
       "<table border=\"1\" class=\"dataframe\">\n",
       "  <thead>\n",
       "    <tr style=\"text-align: right;\">\n",
       "      <th></th>\n",
       "      <th>Pollster</th>\n",
       "      <th># of Polls</th>\n",
       "      <th>NCPP / AAPOR / Roper</th>\n",
       "      <th>Exclusively Live Caller With Cellphones</th>\n",
       "      <th>Methodology</th>\n",
       "      <th>Banned by 538</th>\n",
       "      <th>Predictive    Plus-Minus</th>\n",
       "      <th>538 Grade</th>\n",
       "      <th>Mean-Reverted Bias</th>\n",
       "      <th>Races Called Correctly</th>\n",
       "      <th>...</th>\n",
       "      <th>Simple Average Error</th>\n",
       "      <th>Simple Expected Error</th>\n",
       "      <th>Simple Plus-Minus</th>\n",
       "      <th>Advanced Plus-Minus</th>\n",
       "      <th>Mean-Reverted Advanced Plus Minus</th>\n",
       "      <th>Predictive Plus-Minus</th>\n",
       "      <th># of Polls for Bias Analysis</th>\n",
       "      <th>Bias</th>\n",
       "      <th>House Effect</th>\n",
       "      <th>Year</th>\n",
       "    </tr>\n",
       "  </thead>\n",
       "  <tbody>\n",
       "    <tr>\n",
       "      <th>0</th>\n",
       "      <td>Selzer &amp; Co.</td>\n",
       "      <td>43</td>\n",
       "      <td>yes</td>\n",
       "      <td>yes</td>\n",
       "      <td>Live</td>\n",
       "      <td>no</td>\n",
       "      <td>-1.357517</td>\n",
       "      <td>A+</td>\n",
       "      <td>-0.00366667</td>\n",
       "      <td>0.86</td>\n",
       "      <td>...</td>\n",
       "      <td>4.2</td>\n",
       "      <td>5.6</td>\n",
       "      <td>-1.4</td>\n",
       "      <td>-1.9</td>\n",
       "      <td>-1.1</td>\n",
       "      <td>-1.4</td>\n",
       "      <td>30</td>\n",
       "      <td>-0.00733333</td>\n",
       "      <td>0.149412</td>\n",
       "      <td>2020</td>\n",
       "    </tr>\n",
       "    <tr>\n",
       "      <th>1</th>\n",
       "      <td>Monmouth University</td>\n",
       "      <td>95</td>\n",
       "      <td>yes</td>\n",
       "      <td>yes</td>\n",
       "      <td>Live</td>\n",
       "      <td>no</td>\n",
       "      <td>-1.287058</td>\n",
       "      <td>A+</td>\n",
       "      <td>1.42589</td>\n",
       "      <td>0.8</td>\n",
       "      <td>...</td>\n",
       "      <td>5.3</td>\n",
       "      <td>6.2</td>\n",
       "      <td>-0.8</td>\n",
       "      <td>-1.5</td>\n",
       "      <td>-1.1</td>\n",
       "      <td>-1.3</td>\n",
       "      <td>65</td>\n",
       "      <td>2.084</td>\n",
       "      <td>-0.697921</td>\n",
       "      <td>2020</td>\n",
       "    </tr>\n",
       "    <tr>\n",
       "      <th>2</th>\n",
       "      <td>Field Research Corp. (Field Poll)</td>\n",
       "      <td>25</td>\n",
       "      <td>yes</td>\n",
       "      <td>yes</td>\n",
       "      <td>Live</td>\n",
       "      <td>no</td>\n",
       "      <td>-1.142149</td>\n",
       "      <td>A+</td>\n",
       "      <td>-1.21896</td>\n",
       "      <td>1</td>\n",
       "      <td>...</td>\n",
       "      <td>3.9</td>\n",
       "      <td>5.7</td>\n",
       "      <td>-1.8</td>\n",
       "      <td>-2.5</td>\n",
       "      <td>-1.1</td>\n",
       "      <td>-1.1</td>\n",
       "      <td>18</td>\n",
       "      <td>-3.25056</td>\n",
       "      <td>0.614626</td>\n",
       "      <td>2020</td>\n",
       "    </tr>\n",
       "    <tr>\n",
       "      <th>3</th>\n",
       "      <td>ABC News/Washington Post</td>\n",
       "      <td>60</td>\n",
       "      <td>yes</td>\n",
       "      <td>yes</td>\n",
       "      <td>Live</td>\n",
       "      <td>no</td>\n",
       "      <td>-1.073369</td>\n",
       "      <td>A+</td>\n",
       "      <td>0.613412</td>\n",
       "      <td>0.78</td>\n",
       "      <td>...</td>\n",
       "      <td>2.9</td>\n",
       "      <td>4.6</td>\n",
       "      <td>-1.8</td>\n",
       "      <td>-1.3</td>\n",
       "      <td>-0.9</td>\n",
       "      <td>-1.1</td>\n",
       "      <td>55</td>\n",
       "      <td>0.948</td>\n",
       "      <td>1.48025</td>\n",
       "      <td>2020</td>\n",
       "    </tr>\n",
       "    <tr>\n",
       "      <th>4</th>\n",
       "      <td>Elway Research</td>\n",
       "      <td>21</td>\n",
       "      <td>yes</td>\n",
       "      <td>yes</td>\n",
       "      <td>Live</td>\n",
       "      <td>no</td>\n",
       "      <td>-1.056747</td>\n",
       "      <td>A+</td>\n",
       "      <td>0.4736</td>\n",
       "      <td>0.9</td>\n",
       "      <td>...</td>\n",
       "      <td>3.9</td>\n",
       "      <td>5.9</td>\n",
       "      <td>-1.9</td>\n",
       "      <td>-2.2</td>\n",
       "      <td>-0.9</td>\n",
       "      <td>-1.1</td>\n",
       "      <td>20</td>\n",
       "      <td>1.184</td>\n",
       "      <td>3.24362</td>\n",
       "      <td>2020</td>\n",
       "    </tr>\n",
       "  </tbody>\n",
       "</table>\n",
       "<p>5 rows × 21 columns</p>\n",
       "</div>"
      ],
      "text/plain": [
       "                            Pollster  # of Polls NCPP / AAPOR / Roper  \\\n",
       "0                       Selzer & Co.          43                  yes   \n",
       "1                Monmouth University          95                  yes   \n",
       "2  Field Research Corp. (Field Poll)          25                  yes   \n",
       "3           ABC News/Washington Post          60                  yes   \n",
       "4                     Elway Research          21                  yes   \n",
       "\n",
       "  Exclusively Live Caller With Cellphones Methodology Banned by 538  \\\n",
       "0                                     yes        Live            no   \n",
       "1                                     yes        Live            no   \n",
       "2                                     yes        Live            no   \n",
       "3                                     yes        Live            no   \n",
       "4                                     yes        Live            no   \n",
       "\n",
       "   Predictive    Plus-Minus 538 Grade Mean-Reverted Bias  \\\n",
       "0                 -1.357517        A+        -0.00366667   \n",
       "1                 -1.287058        A+            1.42589   \n",
       "2                 -1.142149        A+           -1.21896   \n",
       "3                 -1.073369        A+           0.613412   \n",
       "4                 -1.056747        A+             0.4736   \n",
       "\n",
       "  Races Called Correctly  ... Simple Average Error  Simple Expected Error  \\\n",
       "0                   0.86  ...                  4.2                    5.6   \n",
       "1                    0.8  ...                  5.3                    6.2   \n",
       "2                      1  ...                  3.9                    5.7   \n",
       "3                   0.78  ...                  2.9                    4.6   \n",
       "4                    0.9  ...                  3.9                    5.9   \n",
       "\n",
       "  Simple Plus-Minus Advanced Plus-Minus  Mean-Reverted Advanced Plus Minus  \\\n",
       "0              -1.4                -1.9                               -1.1   \n",
       "1              -0.8                -1.5                               -1.1   \n",
       "2              -1.8                -2.5                               -1.1   \n",
       "3              -1.8                -1.3                               -0.9   \n",
       "4              -1.9                -2.2                               -0.9   \n",
       "\n",
       "  Predictive Plus-Minus # of Polls for Bias Analysis        Bias House Effect  \\\n",
       "0                  -1.4                           30 -0.00733333     0.149412   \n",
       "1                  -1.3                           65       2.084    -0.697921   \n",
       "2                  -1.1                           18    -3.25056     0.614626   \n",
       "3                  -1.1                           55       0.948      1.48025   \n",
       "4                  -1.1                           20       1.184      3.24362   \n",
       "\n",
       "   Year  \n",
       "0  2020  \n",
       "1  2020  \n",
       "2  2020  \n",
       "3  2020  \n",
       "4  2020  \n",
       "\n",
       "[5 rows x 21 columns]"
      ]
     },
     "execution_count": 5,
     "metadata": {},
     "output_type": "execute_result"
    }
   ],
   "source": [
    "df.head()"
   ]
  },
  {
   "cell_type": "code",
   "execution_count": 6,
   "metadata": {},
   "outputs": [],
   "source": [
    "df.replace('None',np.nan,inplace = True)"
   ]
  },
  {
   "cell_type": "code",
   "execution_count": 7,
   "metadata": {},
   "outputs": [
    {
     "data": {
      "text/plain": [
       "Pollster                                     0\n",
       "# of Polls                                   0\n",
       "NCPP / AAPOR / Roper                       283\n",
       "Exclusively Live Caller With Cellphones    205\n",
       "Methodology                                337\n",
       "Banned by 538                              333\n",
       "Predictive    Plus-Minus                     0\n",
       "538 Grade                                    0\n",
       "Mean-Reverted Bias                         102\n",
       "Races Called Correctly                     337\n",
       "Misses Outside MOE                         709\n",
       "Simple Average Error                         0\n",
       "Simple Expected Error                      709\n",
       "Simple Plus-Minus                          372\n",
       "Advanced Plus-Minus                          0\n",
       "Mean-Reverted Advanced Plus Minus          709\n",
       "Predictive Plus-Minus                      709\n",
       "# of Polls for Bias Analysis               337\n",
       "Bias                                       741\n",
       "House Effect                               762\n",
       "Year                                         0\n",
       "dtype: int64"
      ]
     },
     "execution_count": 7,
     "metadata": {},
     "output_type": "execute_result"
    }
   ],
   "source": [
    "df.isnull().sum()"
   ]
  },
  {
   "cell_type": "markdown",
   "metadata": {},
   "source": [
    "<div class=\"alert alert-block alert-info\">\n",
    "<b>\n",
    "EMPTY CELL NUMERIC DATA TYPE VARIABLES\n",
    "</b>\n",
    "\n",
    "Mean-Reverted Bias has 102 null values, replacing with the 0\n",
    "\n",
    "Races Called Correctly  has 337 null values, replacing with the 0\n",
    "\n",
    "Misses Outside MOE  has 709 null values, replacing with the 0\n",
    "\n",
    "Simple Expected Error  has 709 null values, replacing with the 0\n",
    "\n",
    "Simple Plus-Minus  has 372 null values, replacing with the 0\n",
    "\n",
    "Mean-Reverted Advanced Plus Minus  has 709 null values, replacing with the 0\n",
    "\n",
    "Predictive Plus-Minus  has 709 null values, replacing with the 0\n",
    "\n",
    "No of Polls for Bias Analysis  has 337 null values, replacing with the 0\n",
    "\n",
    "Bias  has 741 null values, replacing with the 0\n",
    "\n",
    "House Effect  has 762 null values, replacing with the 0\n",
    "\n",
    "</div>"
   ]
  },
  {
   "cell_type": "code",
   "execution_count": 8,
   "metadata": {},
   "outputs": [],
   "source": [
    "df['Mean-Reverted Bias']=df['Mean-Reverted Bias'].fillna(value='0')\n",
    "df['Races Called Correctly']=df['Races Called Correctly'].fillna(value='0')\n",
    "df['Misses Outside MOE']=df['Misses Outside MOE'].fillna(value='0')\n",
    "df['Simple Expected Error']=df['Simple Expected Error'].fillna(value='0')\n",
    "df['Simple Plus-Minus']=df['Simple Plus-Minus'].fillna(value='0')\n",
    "df['Mean-Reverted Advanced Plus Minus']=df['Races Called Correctly'].fillna(value='0')\n",
    "df['Predictive Plus-Minus']=df['Predictive Plus-Minus'].fillna(value='0')\n",
    "df['# of Polls for Bias Analysis']=df['# of Polls for Bias Analysis'].fillna(value='0')\n",
    "df['Bias']=df['Bias'].fillna(value='0')\n",
    "df['House Effect']=df['House Effect'].fillna(value='0')"
   ]
  },
  {
   "cell_type": "markdown",
   "metadata": {},
   "source": [
    "<div class=\"alert alert-block alert-info\">\n",
    "<b>\n",
    "EMPTY CELL CATEGORICAL DATA TYPE VARIABLES\n",
    "</b>\n",
    "\n",
    "NCPP / AAPOR / Roper has 283 null values. Data is  like 'Yes' or 'No'. empty cells replacing with the Neutral.\n",
    "\n",
    "Exclusively Live Caller With Cellphones has 205 null values. Data is  like 'Yes'nor 'No'. empty cells replacing with the Neutral.\n",
    "\n",
    "Methodology has 337 null values. Data is like 'Live', 'IVR/Online/Live', 'Online', 'IVR', 'Live*', 'IVR/Online','Online/Live', 'IVR/Live', 'Online/Live/Mail', 'Mail', 'no', 'yes'. \n",
    "empty cell replacing with the Neutral\n",
    "\n",
    "Banned by 538 has 333 null values. Data is like 'Yes' or 'No'. empty cells replacing with the Neutral\n",
    "\n",
    "</div>"
   ]
  },
  {
   "cell_type": "code",
   "execution_count": 9,
   "metadata": {},
   "outputs": [],
   "source": [
    "df['NCPP / AAPOR / Roper'] = df['NCPP / AAPOR / Roper'].fillna(value='Neutral')\n",
    "df['Exclusively Live Caller With Cellphones'] = df['Exclusively Live Caller With Cellphones'].fillna(value='Neutral')\n",
    "df['Methodology'] = df['Methodology'].fillna(value='Neutral')\n",
    "df['Banned by 538'] = df['Banned by 538'].fillna(value='Neutral')"
   ]
  },
  {
   "cell_type": "markdown",
   "metadata": {},
   "source": [
    "<div class=\"alert alert-block alert-info\">\n",
    "<b>To find unique values</b> </div>"
   ]
  },
  {
   "cell_type": "code",
   "execution_count": 10,
   "metadata": {},
   "outputs": [
    {
     "data": {
      "text/plain": [
       "array(['Live', 'IVR/Online/Live', 'Online', 'IVR', 'Live*', 'IVR/Online',\n",
       "       'Online/Live', 'IVR/Live', 'Online/Live/Mail', 'Mail', 'no', 'yes',\n",
       "       'Neutral'], dtype=object)"
      ]
     },
     "execution_count": 10,
     "metadata": {},
     "output_type": "execute_result"
    }
   ],
   "source": [
    "df['Methodology'].unique()"
   ]
  },
  {
   "cell_type": "markdown",
   "metadata": {},
   "source": [
    "<div class=\"alert alert-block alert-info\">\n",
    "<b>LABEL ENCODING  -->  </b>    Converting Categorical variables to numerical</div>"
   ]
  },
  {
   "cell_type": "code",
   "execution_count": 11,
   "metadata": {},
   "outputs": [],
   "source": [
    "columns=['Pollster','NCPP / AAPOR / Roper','Exclusively Live Caller With Cellphones','Methodology','Banned by 538','538 Grade']\n",
    "       \n",
    "from sklearn.preprocessing import LabelEncoder\n",
    "le=LabelEncoder()\n",
    "for i in columns:\n",
    "    df[i]=le.fit_transform(df[i])"
   ]
  },
  {
   "cell_type": "code",
   "execution_count": 12,
   "metadata": {},
   "outputs": [
    {
     "data": {
      "text/html": [
       "<div>\n",
       "<style scoped>\n",
       "    .dataframe tbody tr th:only-of-type {\n",
       "        vertical-align: middle;\n",
       "    }\n",
       "\n",
       "    .dataframe tbody tr th {\n",
       "        vertical-align: top;\n",
       "    }\n",
       "\n",
       "    .dataframe thead th {\n",
       "        text-align: right;\n",
       "    }\n",
       "</style>\n",
       "<table border=\"1\" class=\"dataframe\">\n",
       "  <thead>\n",
       "    <tr style=\"text-align: right;\">\n",
       "      <th></th>\n",
       "      <th>Pollster</th>\n",
       "      <th># of Polls</th>\n",
       "      <th>NCPP / AAPOR / Roper</th>\n",
       "      <th>Exclusively Live Caller With Cellphones</th>\n",
       "      <th>Methodology</th>\n",
       "      <th>Banned by 538</th>\n",
       "      <th>Predictive    Plus-Minus</th>\n",
       "      <th>538 Grade</th>\n",
       "      <th>Mean-Reverted Bias</th>\n",
       "      <th>Races Called Correctly</th>\n",
       "      <th>...</th>\n",
       "      <th>Simple Average Error</th>\n",
       "      <th>Simple Expected Error</th>\n",
       "      <th>Simple Plus-Minus</th>\n",
       "      <th>Advanced Plus-Minus</th>\n",
       "      <th>Mean-Reverted Advanced Plus Minus</th>\n",
       "      <th>Predictive Plus-Minus</th>\n",
       "      <th># of Polls for Bias Analysis</th>\n",
       "      <th>Bias</th>\n",
       "      <th>House Effect</th>\n",
       "      <th>Year</th>\n",
       "    </tr>\n",
       "  </thead>\n",
       "  <tbody>\n",
       "    <tr>\n",
       "      <th>1095</th>\n",
       "      <td>440</td>\n",
       "      <td>8</td>\n",
       "      <td>0</td>\n",
       "      <td>1</td>\n",
       "      <td>7</td>\n",
       "      <td>0</td>\n",
       "      <td>1.421870</td>\n",
       "      <td>9</td>\n",
       "      <td>-1.73328</td>\n",
       "      <td>0</td>\n",
       "      <td>...</td>\n",
       "      <td>8.22370</td>\n",
       "      <td>0</td>\n",
       "      <td>3.86704</td>\n",
       "      <td>4.629449</td>\n",
       "      <td>0</td>\n",
       "      <td>0</td>\n",
       "      <td>0</td>\n",
       "      <td>0</td>\n",
       "      <td>0</td>\n",
       "      <td>2014</td>\n",
       "    </tr>\n",
       "    <tr>\n",
       "      <th>1096</th>\n",
       "      <td>268</td>\n",
       "      <td>6</td>\n",
       "      <td>0</td>\n",
       "      <td>0</td>\n",
       "      <td>7</td>\n",
       "      <td>0</td>\n",
       "      <td>1.447369</td>\n",
       "      <td>9</td>\n",
       "      <td>1.41863</td>\n",
       "      <td>0</td>\n",
       "      <td>...</td>\n",
       "      <td>8.50772</td>\n",
       "      <td>0</td>\n",
       "      <td>3.94352</td>\n",
       "      <td>4.614092</td>\n",
       "      <td>0</td>\n",
       "      <td>0</td>\n",
       "      <td>0</td>\n",
       "      <td>0</td>\n",
       "      <td>0</td>\n",
       "      <td>2014</td>\n",
       "    </tr>\n",
       "    <tr>\n",
       "      <th>1097</th>\n",
       "      <td>333</td>\n",
       "      <td>1</td>\n",
       "      <td>0</td>\n",
       "      <td>0</td>\n",
       "      <td>7</td>\n",
       "      <td>0</td>\n",
       "      <td>1.527722</td>\n",
       "      <td>9</td>\n",
       "      <td>1.0871</td>\n",
       "      <td>0</td>\n",
       "      <td>...</td>\n",
       "      <td>33.70000</td>\n",
       "      <td>0</td>\n",
       "      <td>28.4054</td>\n",
       "      <td>24.838680</td>\n",
       "      <td>0</td>\n",
       "      <td>0</td>\n",
       "      <td>0</td>\n",
       "      <td>0</td>\n",
       "      <td>0</td>\n",
       "      <td>2014</td>\n",
       "    </tr>\n",
       "    <tr>\n",
       "      <th>1098</th>\n",
       "      <td>430</td>\n",
       "      <td>6</td>\n",
       "      <td>0</td>\n",
       "      <td>0</td>\n",
       "      <td>7</td>\n",
       "      <td>0</td>\n",
       "      <td>1.534950</td>\n",
       "      <td>9</td>\n",
       "      <td>0.400483</td>\n",
       "      <td>0</td>\n",
       "      <td>...</td>\n",
       "      <td>11.48380</td>\n",
       "      <td>0</td>\n",
       "      <td>6.96825</td>\n",
       "      <td>5.139575</td>\n",
       "      <td>0</td>\n",
       "      <td>0</td>\n",
       "      <td>0</td>\n",
       "      <td>0</td>\n",
       "      <td>0</td>\n",
       "      <td>2014</td>\n",
       "    </tr>\n",
       "    <tr>\n",
       "      <th>1099</th>\n",
       "      <td>78</td>\n",
       "      <td>2</td>\n",
       "      <td>0</td>\n",
       "      <td>0</td>\n",
       "      <td>7</td>\n",
       "      <td>0</td>\n",
       "      <td>1.537619</td>\n",
       "      <td>9</td>\n",
       "      <td>-1.32526</td>\n",
       "      <td>0</td>\n",
       "      <td>...</td>\n",
       "      <td>21.20410</td>\n",
       "      <td>0</td>\n",
       "      <td>16.6174</td>\n",
       "      <td>13.151540</td>\n",
       "      <td>0</td>\n",
       "      <td>0</td>\n",
       "      <td>0</td>\n",
       "      <td>0</td>\n",
       "      <td>0</td>\n",
       "      <td>2014</td>\n",
       "    </tr>\n",
       "    <tr>\n",
       "      <th>1100</th>\n",
       "      <td>245</td>\n",
       "      <td>5</td>\n",
       "      <td>0</td>\n",
       "      <td>0</td>\n",
       "      <td>7</td>\n",
       "      <td>0</td>\n",
       "      <td>1.553966</td>\n",
       "      <td>11</td>\n",
       "      <td>-1.49457</td>\n",
       "      <td>0</td>\n",
       "      <td>...</td>\n",
       "      <td>14.06200</td>\n",
       "      <td>0</td>\n",
       "      <td>8.87764</td>\n",
       "      <td>6.069618</td>\n",
       "      <td>0</td>\n",
       "      <td>0</td>\n",
       "      <td>0</td>\n",
       "      <td>0</td>\n",
       "      <td>0</td>\n",
       "      <td>2014</td>\n",
       "    </tr>\n",
       "    <tr>\n",
       "      <th>1101</th>\n",
       "      <td>234</td>\n",
       "      <td>2</td>\n",
       "      <td>0</td>\n",
       "      <td>0</td>\n",
       "      <td>7</td>\n",
       "      <td>0</td>\n",
       "      <td>1.656743</td>\n",
       "      <td>11</td>\n",
       "      <td>-1.49375</td>\n",
       "      <td>0</td>\n",
       "      <td>...</td>\n",
       "      <td>23.90000</td>\n",
       "      <td>0</td>\n",
       "      <td>17.5788</td>\n",
       "      <td>15.057520</td>\n",
       "      <td>0</td>\n",
       "      <td>0</td>\n",
       "      <td>0</td>\n",
       "      <td>0</td>\n",
       "      <td>0</td>\n",
       "      <td>2014</td>\n",
       "    </tr>\n",
       "    <tr>\n",
       "      <th>1102</th>\n",
       "      <td>163</td>\n",
       "      <td>10</td>\n",
       "      <td>2</td>\n",
       "      <td>0</td>\n",
       "      <td>7</td>\n",
       "      <td>0</td>\n",
       "      <td>1.897668</td>\n",
       "      <td>11</td>\n",
       "      <td>0.798112</td>\n",
       "      <td>0</td>\n",
       "      <td>...</td>\n",
       "      <td>13.06640</td>\n",
       "      <td>0</td>\n",
       "      <td>7.42463</td>\n",
       "      <td>6.714734</td>\n",
       "      <td>0</td>\n",
       "      <td>0</td>\n",
       "      <td>0</td>\n",
       "      <td>0</td>\n",
       "      <td>0</td>\n",
       "      <td>2014</td>\n",
       "    </tr>\n",
       "    <tr>\n",
       "      <th>1103</th>\n",
       "      <td>462</td>\n",
       "      <td>86</td>\n",
       "      <td>0</td>\n",
       "      <td>0</td>\n",
       "      <td>7</td>\n",
       "      <td>0</td>\n",
       "      <td>2.502591</td>\n",
       "      <td>12</td>\n",
       "      <td>-1.44392</td>\n",
       "      <td>0</td>\n",
       "      <td>...</td>\n",
       "      <td>6.51235</td>\n",
       "      <td>0</td>\n",
       "      <td>1.884</td>\n",
       "      <td>2.738137</td>\n",
       "      <td>0</td>\n",
       "      <td>0</td>\n",
       "      <td>0</td>\n",
       "      <td>0</td>\n",
       "      <td>0</td>\n",
       "      <td>2014</td>\n",
       "    </tr>\n",
       "    <tr>\n",
       "      <th>1104</th>\n",
       "      <td>377</td>\n",
       "      <td>133</td>\n",
       "      <td>0</td>\n",
       "      <td>0</td>\n",
       "      <td>7</td>\n",
       "      <td>2</td>\n",
       "      <td>2.894006</td>\n",
       "      <td>12</td>\n",
       "      <td>-4.50972</td>\n",
       "      <td>0</td>\n",
       "      <td>...</td>\n",
       "      <td>6.44887</td>\n",
       "      <td>0</td>\n",
       "      <td>2.09732</td>\n",
       "      <td>3.000317</td>\n",
       "      <td>0</td>\n",
       "      <td>0</td>\n",
       "      <td>0</td>\n",
       "      <td>0</td>\n",
       "      <td>0</td>\n",
       "      <td>2014</td>\n",
       "    </tr>\n",
       "  </tbody>\n",
       "</table>\n",
       "<p>10 rows × 21 columns</p>\n",
       "</div>"
      ],
      "text/plain": [
       "      Pollster  # of Polls  NCPP / AAPOR / Roper  \\\n",
       "1095       440           8                     0   \n",
       "1096       268           6                     0   \n",
       "1097       333           1                     0   \n",
       "1098       430           6                     0   \n",
       "1099        78           2                     0   \n",
       "1100       245           5                     0   \n",
       "1101       234           2                     0   \n",
       "1102       163          10                     2   \n",
       "1103       462          86                     0   \n",
       "1104       377         133                     0   \n",
       "\n",
       "      Exclusively Live Caller With Cellphones  Methodology  Banned by 538  \\\n",
       "1095                                        1            7              0   \n",
       "1096                                        0            7              0   \n",
       "1097                                        0            7              0   \n",
       "1098                                        0            7              0   \n",
       "1099                                        0            7              0   \n",
       "1100                                        0            7              0   \n",
       "1101                                        0            7              0   \n",
       "1102                                        0            7              0   \n",
       "1103                                        0            7              0   \n",
       "1104                                        0            7              2   \n",
       "\n",
       "      Predictive    Plus-Minus  538 Grade Mean-Reverted Bias  \\\n",
       "1095                  1.421870          9           -1.73328   \n",
       "1096                  1.447369          9            1.41863   \n",
       "1097                  1.527722          9             1.0871   \n",
       "1098                  1.534950          9           0.400483   \n",
       "1099                  1.537619          9           -1.32526   \n",
       "1100                  1.553966         11           -1.49457   \n",
       "1101                  1.656743         11           -1.49375   \n",
       "1102                  1.897668         11           0.798112   \n",
       "1103                  2.502591         12           -1.44392   \n",
       "1104                  2.894006         12           -4.50972   \n",
       "\n",
       "     Races Called Correctly  ... Simple Average Error  Simple Expected Error  \\\n",
       "1095                      0  ...              8.22370                      0   \n",
       "1096                      0  ...              8.50772                      0   \n",
       "1097                      0  ...             33.70000                      0   \n",
       "1098                      0  ...             11.48380                      0   \n",
       "1099                      0  ...             21.20410                      0   \n",
       "1100                      0  ...             14.06200                      0   \n",
       "1101                      0  ...             23.90000                      0   \n",
       "1102                      0  ...             13.06640                      0   \n",
       "1103                      0  ...              6.51235                      0   \n",
       "1104                      0  ...              6.44887                      0   \n",
       "\n",
       "     Simple Plus-Minus Advanced Plus-Minus  Mean-Reverted Advanced Plus Minus  \\\n",
       "1095           3.86704            4.629449                                  0   \n",
       "1096           3.94352            4.614092                                  0   \n",
       "1097           28.4054           24.838680                                  0   \n",
       "1098           6.96825            5.139575                                  0   \n",
       "1099           16.6174           13.151540                                  0   \n",
       "1100           8.87764            6.069618                                  0   \n",
       "1101           17.5788           15.057520                                  0   \n",
       "1102           7.42463            6.714734                                  0   \n",
       "1103             1.884            2.738137                                  0   \n",
       "1104           2.09732            3.000317                                  0   \n",
       "\n",
       "     Predictive Plus-Minus # of Polls for Bias Analysis Bias House Effect  \\\n",
       "1095                     0                            0    0            0   \n",
       "1096                     0                            0    0            0   \n",
       "1097                     0                            0    0            0   \n",
       "1098                     0                            0    0            0   \n",
       "1099                     0                            0    0            0   \n",
       "1100                     0                            0    0            0   \n",
       "1101                     0                            0    0            0   \n",
       "1102                     0                            0    0            0   \n",
       "1103                     0                            0    0            0   \n",
       "1104                     0                            0    0            0   \n",
       "\n",
       "      Year  \n",
       "1095  2014  \n",
       "1096  2014  \n",
       "1097  2014  \n",
       "1098  2014  \n",
       "1099  2014  \n",
       "1100  2014  \n",
       "1101  2014  \n",
       "1102  2014  \n",
       "1103  2014  \n",
       "1104  2014  \n",
       "\n",
       "[10 rows x 21 columns]"
      ]
     },
     "execution_count": 12,
     "metadata": {},
     "output_type": "execute_result"
    }
   ],
   "source": [
    "df.tail(10)"
   ]
  },
  {
   "cell_type": "markdown",
   "metadata": {},
   "source": [
    "<div class=\"alert alert-block alert-info\">\n",
    "<b>To find Corrilation between the variables  -->  </b> </div>"
   ]
  },
  {
   "cell_type": "code",
   "execution_count": 13,
   "metadata": {},
   "outputs": [
    {
     "data": {
      "text/plain": [
       "<matplotlib.axes._subplots.AxesSubplot at 0x2293228a0a0>"
      ]
     },
     "execution_count": 13,
     "metadata": {},
     "output_type": "execute_result"
    },
    {
     "data": {
      "image/png": "[encoded data removed]",
      "text/plain": [
       "<Figure size 1080x720 with 2 Axes>"
      ]
     },
     "metadata": {
      "needs_background": "light"
     },
     "output_type": "display_data"
    }
   ],
   "source": [
    "plt.figure(figsize=(15,10))\n",
    "sns.heatmap(df.corr(),annot=True)"
   ]
  },
  {
   "cell_type": "markdown",
   "metadata": {},
   "source": [
    "<div class=\"alert alert-block alert-info\">\n",
    "<b>Seperating Data as INDEPENDENT & DEPENDENT columns</b> </div>"
   ]
  },
  {
   "cell_type": "code",
   "execution_count": 14,
   "metadata": {},
   "outputs": [],
   "source": [
    "x = df.loc[:, ['Pollster', '# of Polls', 'NCPP / AAPOR / Roper',\n",
    "       'Exclusively Live Caller With Cellphones', 'Methodology',\n",
    "       'Banned by 538', '538 Grade',\n",
    "       'Mean-Reverted Bias', 'Races Called Correctly', 'Misses Outside MOE',\n",
    "       'Simple Average Error', 'Simple Expected Error', 'Simple Plus-Minus',\n",
    "       'Advanced Plus-Minus', 'Mean-Reverted Advanced Plus Minus',\n",
    "       '# of Polls for Bias Analysis', 'Bias',\n",
    "       'House Effect', 'Year']]\n",
    "\n",
    "Y = df['Predictive    Plus-Minus']"
   ]
  },
  {
   "cell_type": "markdown",
   "metadata": {},
   "source": [
    "<div class=\"alert alert-block alert-success\">\n",
    "<b>TARGET VARIABLE  -->  </b> Here our target variable is 'Predictive Plus-Minus' </div>\n"
   ]
  },
  {
   "cell_type": "markdown",
   "metadata": {},
   "source": [
    "<div class=\"alert alert-block alert-info\">\n",
    "<b>Standardizing the data</b> </div>"
   ]
  },
  {
   "cell_type": "code",
   "execution_count": 15,
   "metadata": {},
   "outputs": [],
   "source": [
    "from sklearn.preprocessing import StandardScaler\n",
    "sc = StandardScaler()\n",
    "X = sc.fit_transform(x)"
   ]
  },
  {
   "cell_type": "markdown",
   "metadata": {},
   "source": [
    "<div class=\"alert alert-block alert-info\">\n",
    "<b>Splitting the data for training and testing</b> </div>"
   ]
  },
  {
   "cell_type": "code",
   "execution_count": 16,
   "metadata": {},
   "outputs": [],
   "source": [
    "\n",
    "from sklearn.model_selection import train_test_split\n",
    "x_train, x_test, y_train, y_test = train_test_split(X,Y,test_size=0.3,random_state=10)"
   ]
  },
  {
   "cell_type": "markdown",
   "metadata": {},
   "source": [
    "<div class=\"alert alert-block alert-success\">\n",
    "<b>Here we gave 70% of data for training</b> </div>\n"
   ]
  },
  {
   "cell_type": "markdown",
   "metadata": {},
   "source": [
    "<div class=\"alert alert-block alert-info\">\n",
    "<b>To check Training & Testing shape</b> </div>"
   ]
  },
  {
   "cell_type": "code",
   "execution_count": 17,
   "metadata": {},
   "outputs": [
    {
     "name": "stdout",
     "output_type": "stream",
     "text": [
      "Training shape (773, 19)\n",
      "Testing shape (332, 19)\n"
     ]
    }
   ],
   "source": [
    "print(\"Training shape\",x_train.shape)\n",
    "print(\"Testing shape\",x_test.shape)"
   ]
  },
  {
   "cell_type": "markdown",
   "metadata": {},
   "source": [
    "<div class=\"alert alert-block alert-danger\">\n",
    "<b>.......................................................................................... X G BOOST REGREGRESSOR ........................................................................................</b> </div>\n"
   ]
  },
  {
   "cell_type": "markdown",
   "metadata": {},
   "source": [
    "<div class=\"alert alert-block alert-info\">\n",
    "<b>STEP 1.      Import XGBoost</b> </div>\n",
    "\n"
   ]
  },
  {
   "cell_type": "code",
   "execution_count": 18,
   "metadata": {},
   "outputs": [],
   "source": [
    "import xgboost"
   ]
  },
  {
   "cell_type": "markdown",
   "metadata": {},
   "source": [
    "<div class=\"alert alert-block alert-info\">\n",
    "<b>STEP 2.        Importing model XGBoost Regressor</b> </div>\n",
    "\n"
   ]
  },
  {
   "cell_type": "code",
   "execution_count": 19,
   "metadata": {},
   "outputs": [],
   "source": [
    "from xgboost import XGBRegressor\n",
    "xgb_model = XGBRegressor()"
   ]
  },
  {
   "cell_type": "markdown",
   "metadata": {},
   "source": [
    "<div class=\"alert alert-block alert-info\">\n",
    "<b>STEP 3.Training model</b> </div>\n",
    "\n"
   ]
  },
  {
   "cell_type": "code",
   "execution_count": 20,
   "metadata": {},
   "outputs": [
    {
     "data": {
      "text/plain": [
       "XGBRegressor(base_score=0.5, booster='gbtree', colsample_bylevel=1,\n",
       "             colsample_bynode=1, colsample_bytree=1, gamma=0, gpu_id=-1,\n",
       "             importance_type='gain', interaction_constraints='',\n",
       "             learning_rate=0.300000012, max_delta_step=0, max_depth=6,\n",
       "             min_child_weight=1, missing=nan, monotone_constraints='()',\n",
       "             n_estimators=100, n_jobs=0, num_parallel_tree=1, random_state=0,\n",
       "             reg_alpha=0, reg_lambda=1, scale_pos_weight=1, subsample=1,\n",
       "             tree_method='exact', validate_parameters=1, verbosity=None)"
      ]
     },
     "execution_count": 20,
     "metadata": {},
     "output_type": "execute_result"
    }
   ],
   "source": [
    "xgb_model.fit(x_train,y_train)"
   ]
  },
  {
   "cell_type": "markdown",
   "metadata": {},
   "source": [
    "<div class=\"alert alert-block alert-info\">\n",
    "<b>STEP 4.   import r2_score</b> </div>\n",
    "\n"
   ]
  },
  {
   "cell_type": "code",
   "execution_count": 21,
   "metadata": {},
   "outputs": [],
   "source": [
    "from sklearn.metrics import r2_score"
   ]
  },
  {
   "cell_type": "markdown",
   "metadata": {},
   "source": [
    "<div class=\"alert alert-block alert-info\">\n",
    "<b>STEP  5. Prediction  /  Testing  /  Evaluation</b> </div>\n",
    "\n"
   ]
  },
  {
   "cell_type": "code",
   "execution_count": 24,
   "metadata": {},
   "outputs": [
    {
     "name": "stdout",
     "output_type": "stream",
     "text": [
      "training accuracy: 0.9999665516974952\n",
      "testing accuracy: 0.974872725898762\n"
     ]
    }
   ],
   "source": [
    "print(\"training accuracy:\",r2_score(y_train,xgb_model.predict(x_train)))\n",
    "print(\"testing accuracy:\",r2_score(y_test,xgb_model.predict(x_test)))"
   ]
  },
  {
   "cell_type": "markdown",
   "metadata": {},
   "source": [
    "<div class=\"alert alert-block alert-success\">\n",
    "<b>\n",
    "\n",
    "Training Accuracy:-----> 99%\n",
    "    \n",
    "Testing Accuracy:-----> 97%\n",
    "    \n",
    "So we got Modarate Best Result from XGBoostRegressor Machine Learning Model.\n",
    "\n",
    "</b> </div>\n"
   ]
  },
  {
   "cell_type": "markdown",
   "metadata": {},
   "source": [
    "<div class=\"alert alert-block alert-info\">\n",
    "<b>Checking with remaining  Machine Learning Models.</b> </div>"
   ]
  },
  {
   "cell_type": "markdown",
   "metadata": {},
   "source": [
    "<div class=\"alert alert-block alert-success\">\n",
    "<b>\n",
    "\n",
    "LinearRegression:-\n",
    "\n",
    "Training Accuracy:-----> 81%\n",
    "\n",
    "Testing Accuracy:-----> 80%\n",
    "    \n",
    "</b> \n",
    "\n",
    "Here we got less Training & Testing Accuracy\n",
    "\n",
    "</div>"
   ]
  },
  {
   "cell_type": "markdown",
   "metadata": {},
   "source": [
    "<div class=\"alert alert-block alert-success\">\n",
    "<b>\n",
    "\n",
    "DecisionTreeRegressor:-\n",
    "\n",
    "Training Accuracy:-----> 100%\n",
    "\n",
    "Testing Accuracy:-----> 95%\n",
    "    \n",
    "</b> \n",
    "\n",
    "Here we got Overfitting result from Training & Testing Accuracy of DecisionTreeRegressor Machine Learning Model.\n",
    "\n",
    "</div>"
   ]
  },
  {
   "cell_type": "markdown",
   "metadata": {},
   "source": [
    "<div class=\"alert alert-block alert-success\">\n",
    "<b>\n",
    "\n",
    "RandomForestRegressor:-\n",
    "\n",
    "Training Accuracy:-----> 99%\n",
    "\n",
    "Testing Accuracy:-----> 97%\n",
    "    \n",
    "</b> \n",
    "\n",
    "Here aslo we got good modarate result from Training & Testing Accuracy of RandomForestRegressor Machine Learning Model.\n",
    "\n",
    "</div>"
   ]
  },
  {
   "cell_type": "markdown",
   "metadata": {},
   "source": [
    "<div class=\"alert alert-block alert-success\">\n",
    "<b>\n",
    "\n",
    "SupportVectorRegressor:-\n",
    "\n",
    "Training Accuracy:-----> 93%\n",
    "\n",
    "Testing Accuracy:-----> 86%\n",
    "    \n",
    "</b> \n",
    "\n",
    "Here we got Overfitting result from Training & Testing Accuracy of SupportVectorRegressor Machine Learning Model.\n",
    "\n",
    "</div>"
   ]
  },
  {
   "cell_type": "markdown",
   "metadata": {},
   "source": [
    "\n",
    "<div class=\"alert alert-block alert-success\">\n",
    "<b>\n",
    "\n",
    "KNeighborsRegressor:-\n",
    "\n",
    "Training Accuracy:-----> 84%\n",
    "\n",
    "Testing Accuracy:-----> 75%\n",
    "    \n",
    "</b> \n",
    "\n",
    "Here we got less & Overfitting result from Training & Testing Accuracy of KNeighborsRegressor Machine Learning Model.\n",
    "\n",
    "</div>"
   ]
  },
  {
   "cell_type": "markdown",
   "metadata": {},
   "source": [
    "<div class=\"alert alert-block alert-success\">\n",
    "<b>\n",
    "\n",
    "AdaBoostRegressor:-\n",
    "\n",
    "Training Accuracy:-----> 91%\n",
    "\n",
    "Testing Accuracy:-----> 89%\n",
    "    \n",
    "</b> \n",
    "\n",
    "Here we got Overfitting result from Training & Testing Accuracy of AdaBoostRegressor Machine Learning Model.\n",
    "\n",
    "</div>\n"
   ]
  },
  {
   "cell_type": "markdown",
   "metadata": {},
   "source": [
    "<div class=\"alert alert-block alert-success\">\n",
    "<b>\n",
    "\n",
    "GradientBoostingRegressor:-\n",
    "\n",
    "Training Accuracy:-----> 99%\n",
    "\n",
    "Testing Accuracy:-----> 97%\n",
    "    \n",
    "</b> \n",
    "\n",
    "Here aslo we got good modarate result from Training & Testing Accuracy of GradientBoostingRegressor Machine Learning Model.\n",
    "\n",
    "</div>\n"
   ]
  },
  {
   "cell_type": "markdown",
   "metadata": {},
   "source": [
    "<div class=\"alert alert-block alert-warning\">\n",
    "<b>PLOTTINGS FOR \"TRAINING ACURACY & TESTING ACURACY\"</b>\n",
    "</div>"
   ]
  },
  {
   "cell_type": "code",
   "execution_count": 45,
   "metadata": {},
   "outputs": [
    {
     "data": {
      "text/plain": [
       "<matplotlib.axes._subplots.AxesSubplot at 0x2293571c640>"
      ]
     },
     "execution_count": 45,
     "metadata": {},
     "output_type": "execute_result"
    },
    {
     "data": {
      "image/png": "[encoded data removed]",
      "text/plain": [
       "<Figure size 1224x432 with 2 Axes>"
      ]
     },
     "metadata": {},
     "output_type": "display_data"
    }
   ],
   "source": [
    "sns.set(rc={'axes.facecolor':'cyan', 'figure.facecolor':'w'})\n",
    "fig, axes = plt.subplots(1,2,figsize=(17,6))\n",
    "fig,axes[0].set_title('Testing Acuracy')\n",
    "fig,axes[1].set_title('Training Acuracy')\n",
    "\n",
    "X = [\"XGB\",\"LR\",\"DTR\",\"RFR\",\"SVR\",\"KNR\",\"ADB\",\"GB\"]\n",
    "Y = [97,80,95,97,86,75,89,97] \n",
    "\n",
    "B = [99,81,100,99,93,84,91,99]\n",
    "\n",
    "sns.lineplot(x=X,y=Y,ax =axes[0],markers=True, dashes=True,palette=\"Set1\", lw=8,markersize=10)\n",
    "sns.lineplot(x=X,y=B,ax = axes[1],markers=True, dashes=True,palette=\"Set1\", lw=8,markersize=10)\n"
   ]
  },
  {
   "cell_type": "code",
   "execution_count": 47,
   "metadata": {},
   "outputs": [
    {
     "data": {
      "text/plain": [
       "<matplotlib.axes._subplots.AxesSubplot at 0x22935836eb0>"
      ]
     },
     "execution_count": 47,
     "metadata": {},
     "output_type": "execute_result"
    },
    {
     "data": {
      "image/png": "[encoded data removed]",
      "text/plain": [
       "<Figure size 1224x432 with 2 Axes>"
      ]
     },
     "metadata": {},
     "output_type": "display_data"
    }
   ],
   "source": [
    "sns.set(rc={'axes.facecolor':'cyan', 'figure.facecolor':'w'})\n",
    "fig, axes = plt.subplots(1,2,figsize=(17,6))\n",
    "fig,axes[0].set_title('Testing Acuracy')\n",
    "fig,axes[1].set_title('Training Acuracy')\n",
    "\n",
    "X = [\"XGB\",\"LR\",\"DTR\",\"RFR\",\"SVR\",\"KNR\",\"ADB\",\"GB\"]\n",
    "Y = [97,80,95,97,86,75,89,97] \n",
    "\n",
    "B = [99,81,100,99,93,84,91,99]\n",
    "\n",
    "sns.barplot(x=X,y=Y,ax =axes[0],palette=\"Set1\")\n",
    "sns.barplot(x=X,y=B,ax = axes[1],palette=\"Set1\")\n"
   ]
  },
  {
   "cell_type": "code",
   "execution_count": null,
   "metadata": {},
   "outputs": [],
   "source": []
  }
 ],
 "metadata": {
  "kernelspec": {
   "display_name": "Python 3",
   "language": "python",
   "name": "python3"
  },
  "language_info": {
   "codemirror_mode": {
    "name": "ipython",
    "version": 3
   },
   "file_extension": ".py",
   "mimetype": "text/x-python",
   "name": "python",
   "nbconvert_exporter": "python",
   "pygments_lexer": "ipython3",
   "version": "3.8.3"
  }
 },
 "nbformat": 4,
 "nbformat_minor": 4
}
